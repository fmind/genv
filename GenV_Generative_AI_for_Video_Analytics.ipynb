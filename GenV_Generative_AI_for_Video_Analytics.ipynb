{
  "nbformat": 4,
  "nbformat_minor": 0,
  "metadata": {
    "colab": {
      "private_outputs": true,
      "provenance": [],
      "mount_file_id": "1TgiWawhrLRVH6UB2I0zbCylrYnu5gO3Y",
      "authorship_tag": "ABX9TyPWh8pZLGkUBAOtjhbKZI4k",
      "include_colab_link": true
    },
    "kernelspec": {
      "name": "python3",
      "display_name": "Python 3"
    },
    "language_info": {
      "name": "python"
    }
  },
  "cells": [
    {
      "cell_type": "markdown",
      "metadata": {
        "id": "view-in-github",
        "colab_type": "text"
      },
      "source": [
        "<a href=\"https://colab.research.google.com/github/fmind/genv/blob/main/GenV_Generative_AI_for_Video_Analytics.ipynb\" target=\"_parent\"><img src=\"https://colab.research.google.com/assets/colab-badge.svg\" alt=\"Open In Colab\"/></a>"
      ]
    },
    {
      "cell_type": "markdown",
      "source": [
        "# SETUP"
      ],
      "metadata": {
        "id": "VFYUF4nlOMMI"
      }
    },
    {
      "cell_type": "markdown",
      "source": [
        "## Google Cloud Platform (GCP)\n",
        "\n",
        "1.  **Create or Select a GCP Project:** Ensure you have a Google Cloud project. If not, create one.\n",
        "2.  **Enable Vertex AI API:** Within your chosen project, navigate to the APIs & Services section and enable the \"Vertex AI API\".\n",
        "3.  **Configure Project ID Secret:** Add your GCP `PROJECT_ID` as a Colab secret named `GENV_PROJECT_ID`. This notebook will use this secret for authentication.\n"
      ],
      "metadata": {
        "id": "FRGQbwE3OOgk"
      }
    },
    {
      "cell_type": "markdown",
      "source": [
        "## Google Cloud Storage (GCS)\n",
        "\n",
        "1.  **Create a GCS Bucket:** Create a Cloud Storage bucket within your GCP project. This bucket will be used to temporarily store video files for processing by the Vertex AI API. Update the `BUCKET` configuration variable with the name of your bucket."
      ],
      "metadata": {
        "id": "G4h9RcUUl-td"
      }
    },
    {
      "cell_type": "markdown",
      "source": [
        "## Google Drive\n",
        "\n",
        "1.  **Authorize Access:** You will be prompted to authorize this notebook to access your Google Drive. This is necessary to read the video files specified in the `VIDEOS_PATH` configuration. Ensure your Meet recordings are located at this path."
      ],
      "metadata": {
        "id": "CEPAdQl3RR95"
      }
    },
    {
      "cell_type": "markdown",
      "source": [
        "# CONFIGS"
      ],
      "metadata": {
        "id": "rNdsd4vp_taG"
      }
    },
    {
      "cell_type": "code",
      "source": [
        "# @title Generative AI\n",
        "\n",
        "MODEL = \"gemini-2.0-flash-lite\" # @param {\"type\":\"string\"}\n",
        "TEMPERATURE = 0.0 # @param {\"type\":\"slider\",\"min\":0,\"max\":2,\"step\":0.1}"
      ],
      "metadata": {
        "id": "C-oa1rlN_uhh"
      },
      "execution_count": null,
      "outputs": []
    },
    {
      "cell_type": "code",
      "source": [
        "# @title Google Cloud\n",
        "\n",
        "PROJECT_ID = \"\" # @param {\"type\":\"string\"}\n",
        "LOCATION = \"us-central1\" # @param {\"type\":\"string\"}\n",
        "BUCKET = \"genv-videos\" # @param {\"type\": \"string\"}"
      ],
      "metadata": {
        "id": "li6GVTaBQSCC"
      },
      "execution_count": null,
      "outputs": []
    },
    {
      "cell_type": "code",
      "source": [
        "# @title App\n",
        "\n",
        "SINCE_DAYS = 7 # @param {\"type\":\"integer\"}\n",
        "VIDEOS_PATH = \"/content/drive/MyDrive/Meet Recordings\" # @param {\"type\":\"string\"}\n",
        "DOWNLOAD = True # @param {\"type\":\"boolean\"}"
      ],
      "metadata": {
        "id": "zjZFggq0RBZc"
      },
      "execution_count": null,
      "outputs": []
    },
    {
      "cell_type": "markdown",
      "source": [
        "# IMPORTS"
      ],
      "metadata": {
        "id": "FuFPpQVf_bmJ"
      }
    },
    {
      "cell_type": "markdown",
      "source": [
        "## Internal"
      ],
      "metadata": {
        "id": "MZ3ab6jiD4AB"
      }
    },
    {
      "cell_type": "code",
      "execution_count": null,
      "metadata": {
        "id": "dKmVDgj0-yGp"
      },
      "outputs": [],
      "source": [
        "import io\n",
        "import json\n",
        "import string\n",
        "import textwrap\n",
        "import typing as T\n",
        "import datetime as dt\n",
        "from pathlib import Path"
      ]
    },
    {
      "cell_type": "markdown",
      "source": [
        "## External"
      ],
      "metadata": {
        "id": "r3xNu-SRD5yG"
      }
    },
    {
      "cell_type": "code",
      "source": [
        "import pydantic as pdt\n",
        "from google import genai\n",
        "from IPython import display\n",
        "from google.cloud import storage\n",
        "from google.genai import types as GT\n",
        "from google.colab import userdata, drive, auth, files"
      ],
      "metadata": {
        "id": "lWDE1gUMD3jK"
      },
      "execution_count": null,
      "outputs": []
    },
    {
      "cell_type": "markdown",
      "source": [
        "# SECRETS"
      ],
      "metadata": {
        "id": "Jts7cjHBjtCi"
      }
    },
    {
      "cell_type": "markdown",
      "source": [
        "## Project"
      ],
      "metadata": {
        "id": "BneeG6XRDU7b"
      }
    },
    {
      "cell_type": "code",
      "source": [
        "PROJECT_ID = PROJECT_ID or userdata.get('GENV_PROJECT_ID')"
      ],
      "metadata": {
        "id": "I9nblQCxCY37"
      },
      "execution_count": null,
      "outputs": []
    },
    {
      "cell_type": "markdown",
      "source": [
        "# SERVICES"
      ],
      "metadata": {
        "id": "DHIANS3gAhqo"
      }
    },
    {
      "cell_type": "markdown",
      "source": [
        "## Authentication"
      ],
      "metadata": {
        "id": "4VIq6lsJEjA5"
      }
    },
    {
      "cell_type": "code",
      "source": [
        "auth.authenticate_user(project_id=PROJECT_ID)"
      ],
      "metadata": {
        "id": "PitXpgxClBVC"
      },
      "execution_count": null,
      "outputs": []
    },
    {
      "cell_type": "markdown",
      "source": [
        "## Storage"
      ],
      "metadata": {
        "id": "eKt7Xde9hhIa"
      }
    },
    {
      "cell_type": "code",
      "source": [
        "storage_client = storage.Client()"
      ],
      "metadata": {
        "id": "eNXs6g9-hh7G"
      },
      "execution_count": null,
      "outputs": []
    },
    {
      "cell_type": "markdown",
      "source": [
        "## Gen AI"
      ],
      "metadata": {
        "id": "zUu_8tsxElCG"
      }
    },
    {
      "cell_type": "code",
      "source": [
        "genai_client = genai.Client(vertexai=True, project=PROJECT_ID, location=LOCATION)"
      ],
      "metadata": {
        "id": "X1In05oB_sWp"
      },
      "execution_count": null,
      "outputs": []
    },
    {
      "cell_type": "markdown",
      "source": [
        "## Drive"
      ],
      "metadata": {
        "id": "kft5Qu4IGERp"
      }
    },
    {
      "cell_type": "code",
      "source": [
        "drive.mount('/content/drive')"
      ],
      "metadata": {
        "id": "OZrPBRDhGEh6"
      },
      "execution_count": null,
      "outputs": []
    },
    {
      "cell_type": "markdown",
      "source": [
        "## Bucket"
      ],
      "metadata": {
        "id": "xqlbpbXLbroo"
      }
    },
    {
      "cell_type": "code",
      "source": [
        "bucket = storage_client.bucket(BUCKET)"
      ],
      "metadata": {
        "id": "D3i-FW-mbrLP"
      },
      "execution_count": null,
      "outputs": []
    },
    {
      "cell_type": "markdown",
      "source": [
        "# CONTENTS"
      ],
      "metadata": {
        "id": "oo5dSo_Uo122"
      }
    },
    {
      "cell_type": "markdown",
      "source": [
        "## Filters"
      ],
      "metadata": {
        "id": "iYckxyvQE8v7"
      }
    },
    {
      "cell_type": "code",
      "source": [
        "today = dt.date.today()\n",
        "since = today - dt.timedelta(days=SINCE_DAYS)\n",
        "since"
      ],
      "metadata": {
        "id": "IoO54PVNjRDY"
      },
      "execution_count": null,
      "outputs": []
    },
    {
      "cell_type": "markdown",
      "source": [
        "## Paths"
      ],
      "metadata": {
        "id": "AyEV0EQHRY47"
      }
    },
    {
      "cell_type": "code",
      "source": [
        "root = Path(VIDEOS_PATH)\n",
        "paths = []\n",
        "for path in root.glob('*'):\n",
        "    if path.is_file():\n",
        "        modification_time = dt.datetime.fromtimestamp(path.stat().st_mtime).date()\n",
        "        if modification_time >= since:\n",
        "            paths.append(path)\n",
        "paths"
      ],
      "metadata": {
        "id": "g_DwZSloezSE"
      },
      "execution_count": null,
      "outputs": []
    },
    {
      "cell_type": "markdown",
      "source": [
        "## Blobs"
      ],
      "metadata": {
        "id": "8emMA8bAaEg4"
      }
    },
    {
      "cell_type": "code",
      "source": [
        "blobs = {}\n",
        "for path in paths:\n",
        "    try:\n",
        "        blob = bucket.blob(f\"{path.stem}.mp4\")\n",
        "        if not blob.exists():\n",
        "            blob.upload_from_filename(path)\n",
        "            print(f'Path \"{path.name}\" uploaded to blob \"{blob.name}\".')\n",
        "        else:\n",
        "            print(f'Blob \"{blob.name}\" already exists.')\n",
        "        blobs[path] = blob\n",
        "    except Exception as error:\n",
        "        print(f\"[ERROR] {error}\")\n",
        "blobs"
      ],
      "metadata": {
        "id": "GnvnEHjjbaJ1"
      },
      "execution_count": null,
      "outputs": []
    },
    {
      "cell_type": "markdown",
      "source": [
        "# ANALYSIS"
      ],
      "metadata": {
        "id": "-iBrz5-aLk88"
      }
    },
    {
      "cell_type": "markdown",
      "source": [
        "## Data Classes"
      ],
      "metadata": {
        "id": "Je5-HdckFOr0"
      }
    },
    {
      "cell_type": "code",
      "source": [
        "# --- Define the structure for individual pieces of information ---\n",
        "\n",
        "class QuestionAnswer(pdt.BaseModel):\n",
        "    \"\"\"Represents a question asked during the meeting and its corresponding answer.\"\"\"\n",
        "    question: str = pdt.Field(description=\"The specific question that was asked.\")\n",
        "    answer: str = pdt.Field(description=\"The answer provided during the meeting.\")\n",
        "\n",
        "class ProjectInfo(pdt.BaseModel):\n",
        "    \"\"\"Represents a project discussed during the meeting.\"\"\"\n",
        "    name: str = pdt.Field(description=\"The name or identifier of the project mentioned.\")\n",
        "    details: str = pdt.Field(description=\"A brief summary of the status update, discussion points, or decisions related to this project from the meeting.\")\n",
        "\n",
        "class ActionItem(pdt.BaseModel):\n",
        "    \"\"\"Represents an action item or task assigned during the meeting.\"\"\"\n",
        "    task: str = pdt.Field(description=\"The description of the action item or task.\")\n",
        "    owner: T.Optional[str] = pdt.Field(default=None, description=\"The person or team assigned responsibility for the task, if specified.\")\n",
        "    deadline: T.Optional[str] = pdt.Field(default=None, description=\"The deadline mentioned for the task, if specified (e.g., 'Next week', 'YYYY-MM-DD').\")\n",
        "\n",
        "class DecisionSuggestion(pdt.BaseModel):\n",
        "    \"\"\"Represents a key decision made or a significant suggestion proposed during the meeting.\"\"\"\n",
        "    item: str = pdt.Field(description=\"The core decision made or suggestion proposed.\")\n",
        "    type: T.Literal[\"Decision\", \"Suggestion\"] = pdt.Field(description=\"Indicates whether this is a Decision or a Suggestion.\")\n",
        "    details: T.Optional[str] = pdt.Field(default=None, description=\"Any relevant context, rationale, or elaboration provided.\")\n",
        "\n",
        "\n",
        "# --- Define the main structure for the overall meeting insights ---\n",
        "\n",
        "class MeetingInsight(pdt.BaseModel):\n",
        "    \"\"\"Structured insights extracted from a Google Meet recording analysis.\"\"\"\n",
        "    title: T.Optional[str] = pdt.Field(\n",
        "        default=None,\n",
        "        description=\"The inferred title or primary subject of the meeting based on the discussion.\"\n",
        "    )\n",
        "    summary: T.Optional[str] = pdt.Field(\n",
        "        default=None,\n",
        "        description=\"A concise summary (3-5 sentences) of the main topics discussed and key outcomes of the meeting.\"\n",
        "    )\n",
        "    questions_answers: T.Optional[list[QuestionAnswer]] = pdt.Field(\n",
        "        default=None,\n",
        "        description=\"A list of significant questions asked and their corresponding answers from the meeting.\"\n",
        "    )\n",
        "    unanswered_questions: T.Optional[list[str]] = pdt.Field(\n",
        "        default=None,\n",
        "        description=\"A list of significant questions that were asked but do not appear to have been clearly answered during the meeting..\"\n",
        "    )\n",
        "    projects_discussed: T.Optional[list[ProjectInfo]] = pdt.Field(\n",
        "        default=None,\n",
        "        description=\"A list of specific projects discussed, including status or key points.\"\n",
        "    )\n",
        "    action_items: T.Optional[list[ActionItem]] = pdt.Field(\n",
        "        default=None,\n",
        "        description=\"A list of specific tasks or action items assigned, including owner and deadline if specified.\"\n",
        "    )\n",
        "    decisions_suggestions: T.Optional[list[DecisionSuggestion]] = pdt.Field(\n",
        "        default=None,\n",
        "        description=\"A list of key decisions made or significant suggestions proposed during the meeting.\"\n",
        "    )\n",
        "    technical_insights: T.Optional[list[str]] = pdt.Field(\n",
        "       default=None,\n",
        "       description=\"Specific mentions related technical solutions, configurations, or code snippets discussed.\"\n",
        "    )\n",
        "    key_topics_mentioned: T.Optional[list[str]] = pdt.Field(\n",
        "        default=None,\n",
        "        description=\"A list of other important topics, keywords, or themes discussed that are not captured elsewhere (e.g., specific technologies, methodologies, upcoming events, general announcements).\"\n",
        "    )"
      ],
      "metadata": {
        "id": "duO-zA-D2N9A"
      },
      "execution_count": null,
      "outputs": []
    },
    {
      "cell_type": "markdown",
      "source": [
        "## Templates"
      ],
      "metadata": {
        "id": "Gb9i_752Fj5x"
      }
    },
    {
      "cell_type": "code",
      "source": [
        "ANALYSIS_TEMPLATE = string.Template(\"\"\"\n",
        "Analyze the provided Google Meet recording thoroughly. Extract key information based on the provided schema.\n",
        "Identify the meeting's purpose, summarize the discussion, list any questions/answers, pinpoint action items with owners/deadlines, note decisions/suggestions, and capture key topics mentioned.\n",
        "\"\"\")"
      ],
      "metadata": {
        "id": "AZGMXVMSMkdk"
      },
      "execution_count": null,
      "outputs": []
    },
    {
      "cell_type": "markdown",
      "source": [
        "## Insights"
      ],
      "metadata": {
        "id": "QYxoEb2FFlom"
      }
    },
    {
      "cell_type": "code",
      "source": [
        "insights = {}\n",
        "for key, blob in blobs.items():\n",
        "    prompt = ANALYSIS_TEMPLATE.substitute()\n",
        "    try:\n",
        "        uri = f\"gs://{blob.bucket.name}/{blob.name}\"\n",
        "        contents = [\n",
        "            GT.Part.from_uri(file_uri=uri, mime_type=\"video/mp4\"),\n",
        "            prompt,\n",
        "        ]\n",
        "        response = genai_client.models.generate_content(\n",
        "            model=MODEL,\n",
        "            contents=contents,\n",
        "            config={\n",
        "                \"response_mime_type\": \"application/json\",\n",
        "                \"response_schema\": MeetingInsight,\n",
        "                \"temperature\": TEMPERATURE\n",
        "            },\n",
        "        )\n",
        "        print(uri, response.usage_metadata.total_token_count)\n",
        "        insights[key] = response.parsed\n",
        "    except Exception as error:\n",
        "        print(f\"An error occurred during API call for space {key}: {error}\")\n",
        "len(insights)"
      ],
      "metadata": {
        "id": "6gls81GSMpsh"
      },
      "execution_count": null,
      "outputs": []
    },
    {
      "cell_type": "markdown",
      "source": [
        "## Markdowns"
      ],
      "metadata": {
        "id": "CAsKYvY6FqPG"
      }
    },
    {
      "cell_type": "code",
      "source": [
        "markdowns = []\n",
        "for key, insight in insights.items():\n",
        "    parts = []\n",
        "    parts.append(f\"# {key.name}\")\n",
        "    if insight.title:\n",
        "        parts.append(f\"## Meeting Title\")\n",
        "        parts.append(insight.title)\n",
        "    if insight.summary:\n",
        "        parts.append(f\"## Summary\")\n",
        "        parts.append(insight.summary)\n",
        "    if insight.questions_answers:\n",
        "        parts.append(\"## Questions & Answers\")\n",
        "        qa_list = []\n",
        "        for qa in insight.questions_answers:\n",
        "            qa_list.append(f\"* **Q:** {qa.question}\\n* **A:** {qa.answer}\")\n",
        "        parts.append(\"\\n\".join(qa_list))\n",
        "    if insight.unanswered_questions:\n",
        "        parts.append(\"## Unanswered Questions\")\n",
        "        uq_list = [f\"* {uq}\" for uq in insight.unanswered_questions]\n",
        "        parts.append(\"\\n\".join(uq_list))\n",
        "    if insight.projects_discussed:\n",
        "        parts.append(\"## Projects Discussed\")\n",
        "        proj_list = [f\"* **{proj.name}:** {proj.details}\" for proj in insight.projects_discussed]\n",
        "        parts.append(\"\\n\".join(proj_list))\n",
        "    if insight.action_items:\n",
        "        parts.append(\"## Action Items\")\n",
        "        ai_list = []\n",
        "        for ai in insight.action_items:\n",
        "            owner_str = f\" (Owner: {ai.owner})\" if ai.owner else \" (Owner: Not specified)\"\n",
        "            deadline_str = f\" (Deadline: {ai.deadline})\" if ai.deadline else \" (Deadline: Not specified)\"\n",
        "            ai_list.append(f\"* **Task:** {ai.task}{owner_str}{deadline_str}\")\n",
        "        parts.append(\"\\n\".join(ai_list))\n",
        "    if insight.decisions_suggestions:\n",
        "        parts.append(\"## Decisions & Suggestions\")\n",
        "        ds_list = []\n",
        "        for ds in insight.decisions_suggestions:\n",
        "            details_str = f\" - *Details:* {ds.details}\" if ds.details else \"\"\n",
        "            ds_list.append(f\"* **[{ds.type}]** {ds.item}{details_str}\")\n",
        "        parts.append(\"\\n\".join(ds_list))\n",
        "    if insight.technical_insights:\n",
        "        parts.append(\"## Technical Insights\")\n",
        "        ti_list = [f\"* {ti}\" for ti in insight.technical_insights]\n",
        "        parts.append(\"\\n\".join(ti_list))\n",
        "    if insight.key_topics_mentioned:\n",
        "        parts.append(\"## Key Topics\")\n",
        "        kt_list = [f\"* {kt}\" for kt in insight.key_topics_mentioned]\n",
        "        parts.append(\"\\n\".join(kt_list))\n",
        "    markdown = display.Markdown(\"\\n\\n\".join(parts).strip())\n",
        "    markdowns.append(markdown)\n",
        "len(markdowns)"
      ],
      "metadata": {
        "id": "RVzZEWukM5es"
      },
      "execution_count": null,
      "outputs": []
    },
    {
      "cell_type": "markdown",
      "source": [
        "# EXPORTS"
      ],
      "metadata": {
        "id": "G9zH1xWpJaeh"
      }
    },
    {
      "cell_type": "markdown",
      "source": [
        "## Jsonlines"
      ],
      "metadata": {
        "id": "iCPd9MMfIhcD"
      }
    },
    {
      "cell_type": "code",
      "source": [
        "jsonlines_path = 'video_insights.jsonlines'\n",
        "with open(jsonlines_path, 'w') as file:\n",
        "    for key, insight in insights.items():\n",
        "        dump = insight.model_dump_json()\n",
        "        file.write(dump)\n",
        "        file.write('\\n')\n",
        "        print(dump)\n",
        "if DOWNLOAD:\n",
        "    files.download(jsonlines_path)"
      ],
      "metadata": {
        "id": "z7BGAh2hM9EZ"
      },
      "execution_count": null,
      "outputs": []
    },
    {
      "cell_type": "markdown",
      "source": [
        "## Markdowns"
      ],
      "metadata": {
        "id": "2jaT-ksiIvoU"
      }
    },
    {
      "cell_type": "code",
      "source": [
        "markdowns_path = 'video_insights.md'\n",
        "with open(markdowns_path, 'w') as file:\n",
        "    for markdown in markdowns:\n",
        "        file.write(markdown.data)\n",
        "        file.write('\\n\\n')\n",
        "        display.display(markdown)\n",
        "if DOWNLOAD:\n",
        "    files.download(markdowns_path)"
      ],
      "metadata": {
        "id": "uASqua6CIx0f"
      },
      "execution_count": null,
      "outputs": []
    }
  ]
}